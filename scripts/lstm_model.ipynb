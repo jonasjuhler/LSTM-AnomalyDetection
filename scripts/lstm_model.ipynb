{
 "cells": [
  {
   "cell_type": "code",
   "execution_count": 319,
   "metadata": {},
   "outputs": [],
   "source": [
    "import torch.nn as nn\n",
    "import torch\n",
    "\n",
    "class LSTM_VAE(nn.Module):\n",
    "    def __init__(self, z_dim, T, x_dim, lstm_units, batch_size=1):\n",
    "        super(LSTM_VAE, self).__init__()\n",
    "\n",
    "        self.z_dim = z_dim\n",
    "        self.T = T\n",
    "        self.x_dim = x_dim\n",
    "        self.lstm_units = lstm_units\n",
    "        self.batch_size = batch_size\n",
    "        \n",
    "        # Everything going on in the network has to be of size:\n",
    "        # (batch_size, T, n_features)\n",
    "        \n",
    "        # We encode the data onto the latent space using bi-directional LSTM\n",
    "        self.encoder = nn.LSTM(\n",
    "            input_size=self.x_dim,\n",
    "            hidden_size=self.lstm_units,\n",
    "            num_layers=1,\n",
    "            bias=True,\n",
    "            batch_first=True,\n",
    "            dropout=0,\n",
    "            bidirectional=True\n",
    "        )\n",
    "        \n",
    "        self.fnn_zmu = nn.Linear(\n",
    "            in_features=2*self.lstm_units,\n",
    "            out_features=self.z_dim,\n",
    "            bias=True\n",
    "        )\n",
    "\n",
    "        self.fnn_zvar = nn.Linear(\n",
    "            in_features=2*self.lstm_units,\n",
    "            out_features=self.z_dim,\n",
    "            bias=True\n",
    "        )\n",
    "        \n",
    "        self.fnn_cmu = nn.Linear(\n",
    "            in_features=2*self.lstm_units,\n",
    "            out_features=self.z_dim,\n",
    "            bias=True\n",
    "        )\n",
    "        \n",
    "        self.fnn_cvar = nn.Linear(\n",
    "            in_features=2*self.lstm_units,\n",
    "            out_features=self.z_dim,\n",
    "            bias=True\n",
    "        )\n",
    "        \n",
    "        # The latent code must be decoded into the original image\n",
    "        self.decoder = nn.LSTM(\n",
    "            input_size=self.z_dim*2,\n",
    "            hidden_size=self.lstm_units,\n",
    "            num_layers=1,\n",
    "            bias=True,\n",
    "            batch_first=True,\n",
    "            dropout=0,\n",
    "            bidirectional=True\n",
    "        )\n",
    "        \n",
    "        self.fnn_xmu = nn.Linear(\n",
    "            in_features=2*self.lstm_units,\n",
    "            out_features=self.x_dim,\n",
    "            bias=True\n",
    "        )\n",
    "        \n",
    "        self.fnn_xb = nn.Linear(\n",
    "            in_features=2*self.lstm_units,\n",
    "            out_features=self.x_dim,\n",
    "            bias=True\n",
    "        ) \n",
    "\n",
    "        # Initialize hidden state and cell state as learnable parameters\n",
    "        self.hidden_state = torch.zeros(2, 1, self.lstm_units)\n",
    "        self.cell_state = torch.zeros(2, 1, self.lstm_units)\n",
    "\n",
    "        \n",
    "    def forward(self, x):\n",
    "        outputs = {}\n",
    "        \n",
    "        out_encoded, (hidden_encoded, cell_encoded) = self.encoder(x, (self.hidden_state, self.cell_state))\n",
    "        flat_hidden = hidden_encoded.reshape(1, 1, 2*self.lstm_units)\n",
    "        \n",
    "        # Fully connected layer from LSTM to var and mu\n",
    "        mu_z = self.fnn_zmu(flat_hidden)\n",
    "        sigma_z = nn.functional.softplus(self.fnn_zvar(flat_hidden))\n",
    "\n",
    "        # :- Reparametrisation trick\n",
    "        # a sample from N(mu, sigma) is mu + sigma * epsilon\n",
    "        # where epsilon ~ N(0, 1)\n",
    "\n",
    "        # Don't propagate gradients through randomness\n",
    "        with torch.no_grad():\n",
    "            epsilon_z = torch.randn(\n",
    "                self.batch_size, self.T, self.z_dim)\n",
    "\n",
    "        # (batch_size, latent_dim) -> (batch_size, 1, latent_dim)\n",
    "        z = mu_z + epsilon_z * sigma_z        \n",
    "\n",
    "        # Here goes the Variational Self-Attention Network \n",
    "        \n",
    "        # Calculate the similarity matrix\n",
    "        S = torch.zeros(self.batch_size, self.T, self.T)\n",
    "        for b in range(self.batch_size):\n",
    "            for i in range(self.T):\n",
    "                for j in range(i+1, self.T):\n",
    "                    S[b,i,j] = torch.dot(out_encoded[b,i,:], out_encoded[b,j,:])\n",
    "                    S[b,j,i] = S[b,i,j]\n",
    "        \n",
    "        # Use softmax to get the sum of weights to equal 1\n",
    "        A = nn.functional.softmax(S, dim=1)\n",
    "        \n",
    "        Cdet = torch.zeros(self.batch_size, self.T, 2*self.lstm_units)\n",
    "        \n",
    "        for b in range(self.batch_size):\n",
    "            for t in range(self.T):\n",
    "                Cdet[b,t,:] = torch.matmul(A[b,:,t], out_encoded[b])\n",
    "        \n",
    "        # Fully connected layer from LSTM to var and mu\n",
    "        mu_c = self.fnn_cmu(Cdet)\n",
    "        sigma_c = nn.functional.softplus(self.fnn_cvar(Cdet))\n",
    "\n",
    "        # Don't propagate gradients through randomness\n",
    "        with torch.no_grad():\n",
    "            epsilon_c = torch.randn(\n",
    "                self.batch_size, self.T, self.z_dim)\n",
    "\n",
    "        c = mu_c + epsilon_c * sigma_c     \n",
    "        \n",
    "        # Concatenate z and c before giving it as input to the decoder\n",
    "        encoded = torch.cat((z,c), dim=2)\n",
    "        \n",
    "        # Run through decoder\n",
    "        out_decoded, _ = self.decoder(encoded)\n",
    "        \n",
    "        # Pass the decoder outputs through fnn to get LaPlace parameters\n",
    "        mu_x = self.fnn_xmu(out_decoded)\n",
    "        b_x = nn.functional.softplus(self.fnn_xb(out_decoded))\n",
    "        \n",
    "        outputs[\"z\"] = z\n",
    "        outputs[\"mu_z\"] = mu_z\n",
    "        outputs[\"sigma_z\"] = sigma_z\n",
    "        outputs[\"c\"] = c\n",
    "        outputs[\"mu_c\"] = mu_c\n",
    "        outputs[\"sigma_c\"] = sigma_c\n",
    "        outputs[\"mu_x\"] = mu_x\n",
    "        outputs[\"b_x\"] = b_x\n",
    "        \n",
    "        \n",
    "        return outputs\n"
   ]
  },
  {
   "cell_type": "code",
   "execution_count": 320,
   "metadata": {},
   "outputs": [
    {
     "name": "stdout",
     "output_type": "stream",
     "text": [
      "torch.Size([1, 2, 1])\n"
     ]
    }
   ],
   "source": [
    "from lstmAD.dataload.load_data import load_data\n",
    "\n",
    "train, _ = load_data('ItalyPowerDemand', basepath='..')\n",
    "\n",
    "train_x = torch.Tensor(train[:2, 20]).unsqueeze(1).unsqueeze(0)\n",
    "\n",
    "print(train_x.shape)\n"
   ]
  },
  {
   "cell_type": "code",
   "execution_count": 321,
   "metadata": {},
   "outputs": [
    {
     "data": {
      "text/plain": [
       "[<matplotlib.lines.Line2D at 0x12bf20110>]"
      ]
     },
     "execution_count": 321,
     "metadata": {},
     "output_type": "execute_result"
    },
    {
     "data": {
      "image/png": "[encoded data removed]",
      "text/plain": [
       "<Figure size 432x288 with 1 Axes>"
      ]
     },
     "metadata": {
      "needs_background": "light"
     },
     "output_type": "display_data"
    }
   ],
   "source": [
    "%matplotlib inline\n",
    "import matplotlib.pyplot as plt\n",
    "\n",
    "plt.plot(train_x[0,:].numpy())"
   ]
  },
  {
   "cell_type": "code",
   "execution_count": 322,
   "metadata": {},
   "outputs": [],
   "source": [
    "z_dim = 3\n",
    "N = train_x.shape[0]\n",
    "T = train_x.shape[1]\n",
    "x_dim = train_x.shape[2]\n",
    "lstm_units = 128\n",
    "\n",
    "net = LSTM_VAE(z_dim, T, x_dim, lstm_units)\n",
    "\n",
    "output = net(train_x)\n",
    "\n",
    "#print(output['x_hat'][0].shape)"
   ]
  },
  {
   "cell_type": "code",
   "execution_count": 323,
   "metadata": {},
   "outputs": [
    {
     "ename": "KeyError",
     "evalue": "'hidden'",
     "output_type": "error",
     "traceback": [
      "\u001b[0;31m---------------------------------------------------------------------------\u001b[0m",
      "\u001b[0;31mKeyError\u001b[0m                                  Traceback (most recent call last)",
      "\u001b[0;32m<ipython-input-323-896e29931e3b>\u001b[0m in \u001b[0;36m<module>\u001b[0;34m\u001b[0m\n\u001b[1;32m      1\u001b[0m \u001b[0;31m# Concatenated final hidden state:\u001b[0m\u001b[0;34m\u001b[0m\u001b[0;34m\u001b[0m\u001b[0;34m\u001b[0m\u001b[0m\n\u001b[0;32m----> 2\u001b[0;31m \u001b[0mprint\u001b[0m\u001b[0;34m(\u001b[0m\u001b[0moutput\u001b[0m\u001b[0;34m[\u001b[0m\u001b[0;34m'hidden'\u001b[0m\u001b[0;34m]\u001b[0m\u001b[0;34m.\u001b[0m\u001b[0mshape\u001b[0m\u001b[0;34m)\u001b[0m\u001b[0;34m\u001b[0m\u001b[0;34m\u001b[0m\u001b[0m\n\u001b[0m",
      "\u001b[0;31mKeyError\u001b[0m: 'hidden'"
     ]
    }
   ],
   "source": [
    "# Concatenated final hidden state:\n",
    "print(output['hidden'].shape)"
   ]
  },
  {
   "cell_type": "code",
   "execution_count": 313,
   "metadata": {},
   "outputs": [
    {
     "name": "stdout",
     "output_type": "stream",
     "text": [
      "torch.Size([1, 2, 256])\n",
      "torch.Size([2, 1, 128])\n",
      "torch.Size([2, 1, 128])\n"
     ]
    }
   ],
   "source": [
    "# Concatenated hidden state (but how it is concatenated??)\n",
    "out = net.encoder(train_x, (torch.zeros(2, 1, 128), torch.zeros(2, 1, 128)))[0]\n",
    "print(out.shape)\n",
    "\n",
    "# Final hidden state (forward+backward, batch, num_lstm_units)\n",
    "hidden = net.encoder(train_x, (torch.zeros(2, 1, 128), torch.zeros(2, 1, 128)))[1][0]\n",
    "print(hidden.shape)\n",
    "\n",
    "# Final cell state (forward+backward, batch, num_lstm_units)\n",
    "cell = net.encoder(train_x, (torch.zeros(2, 1, 128), torch.zeros(2, 1, 128)))[1][1]\n",
    "print(cell.shape)"
   ]
  },
  {
   "cell_type": "code",
   "execution_count": 308,
   "metadata": {},
   "outputs": [
    {
     "data": {
      "text/plain": [
       "{'hidden': tensor([[[-0.0283, -0.0386,  0.0142,  0.0074,  0.0524, -0.0074, -0.0226,\n",
       "           -0.0064, -0.0065,  0.0444,  0.0250,  0.0268,  0.0009, -0.0128,\n",
       "            0.0014, -0.0167, -0.0343, -0.0041, -0.0041,  0.0115,  0.0046,\n",
       "            0.0104,  0.0412, -0.0349,  0.0402, -0.0157,  0.0413,  0.0408,\n",
       "           -0.0084, -0.0230, -0.0465,  0.0043, -0.0164, -0.0203,  0.0529,\n",
       "           -0.0185, -0.0007, -0.0075, -0.0323, -0.0255,  0.0405,  0.0177,\n",
       "           -0.0084,  0.0298,  0.0089,  0.0150,  0.0264, -0.0145,  0.0238,\n",
       "            0.0241,  0.0051, -0.0074, -0.0349, -0.0236, -0.0061, -0.0119,\n",
       "           -0.0294, -0.0132,  0.0212, -0.0365, -0.0165,  0.0052,  0.0330,\n",
       "           -0.0198, -0.0061,  0.0220, -0.0153, -0.0004, -0.0258, -0.0198,\n",
       "           -0.0100, -0.0235, -0.0082, -0.0291, -0.0157, -0.0008,  0.0005,\n",
       "           -0.0149, -0.0062, -0.0413, -0.0266,  0.0227,  0.0260, -0.0138,\n",
       "            0.0187, -0.0500,  0.0085,  0.0112, -0.0367,  0.0072,  0.0160,\n",
       "            0.0163,  0.0103, -0.0098, -0.0172,  0.0096,  0.0011, -0.0333,\n",
       "           -0.0279, -0.0124, -0.0101,  0.0219, -0.0033,  0.0170,  0.0093,\n",
       "           -0.0276,  0.0370,  0.0089,  0.0482, -0.0079,  0.0333,  0.0022,\n",
       "           -0.0035,  0.0448, -0.0281,  0.0115,  0.0085, -0.0267, -0.0145,\n",
       "            0.0068,  0.0354, -0.0331, -0.0079,  0.0086,  0.0185,  0.0038,\n",
       "           -0.0092, -0.0088,  0.0083, -0.0077,  0.0328,  0.0063, -0.0254,\n",
       "           -0.0191, -0.0655,  0.0588,  0.0082, -0.0084, -0.0261,  0.0864,\n",
       "            0.0033, -0.0197,  0.0090, -0.0087, -0.0335, -0.0158,  0.0692,\n",
       "           -0.0055, -0.0236, -0.0297,  0.0114,  0.0081,  0.0322,  0.0123,\n",
       "            0.0068,  0.0268, -0.0289,  0.0519, -0.0048,  0.0081, -0.0291,\n",
       "            0.0004,  0.0210, -0.0338, -0.0398,  0.0481,  0.0255,  0.0197,\n",
       "           -0.0064, -0.0548, -0.0493,  0.0144,  0.0010, -0.0070, -0.0622,\n",
       "            0.0525,  0.0110, -0.0102,  0.0059,  0.0166,  0.0281, -0.0145,\n",
       "            0.0162, -0.0447, -0.0395,  0.0404,  0.0173,  0.0404, -0.0215,\n",
       "           -0.0234,  0.0097,  0.0012,  0.0213,  0.0294, -0.0314, -0.0288,\n",
       "           -0.0030,  0.0242, -0.0005,  0.0670,  0.0030, -0.0077,  0.0077,\n",
       "           -0.0155,  0.0263, -0.0099, -0.0105,  0.0177, -0.0213, -0.0315,\n",
       "           -0.0659, -0.0063, -0.0034, -0.0194,  0.0328, -0.0360, -0.0084,\n",
       "            0.0047, -0.0221, -0.0314, -0.0434,  0.0142,  0.0397, -0.0178,\n",
       "            0.0308, -0.0331,  0.0103,  0.0249, -0.0584, -0.0262, -0.0069,\n",
       "            0.0016,  0.0270, -0.0469,  0.0191, -0.0031,  0.0089, -0.0302,\n",
       "           -0.0061,  0.0084, -0.0686, -0.0394,  0.0073,  0.0022, -0.0744,\n",
       "           -0.0014, -0.0016, -0.0355,  0.0109,  0.0266, -0.0264,  0.0636,\n",
       "           -0.0455, -0.0648,  0.0516,  0.0185],\n",
       "          [ 0.0159, -0.0059,  0.0310,  0.0193,  0.0488,  0.0017,  0.0358,\n",
       "            0.0646, -0.0159,  0.0471,  0.0225,  0.0398,  0.0114, -0.0062,\n",
       "            0.0231,  0.0187, -0.0026, -0.0027, -0.0273,  0.0335,  0.0137,\n",
       "           -0.0385,  0.0250, -0.0493,  0.0329, -0.0139,  0.0535,  0.0268,\n",
       "           -0.0158, -0.0057, -0.0446, -0.0147, -0.0206, -0.0766,  0.0619,\n",
       "           -0.0417,  0.0756, -0.0378, -0.0141, -0.0133,  0.0306, -0.0016,\n",
       "            0.0008,  0.0195, -0.0131,  0.0092,  0.0100,  0.0025,  0.0335,\n",
       "            0.0236, -0.0508,  0.0280, -0.0092, -0.0755,  0.0189,  0.0274,\n",
       "            0.0002,  0.0112,  0.0335, -0.0238,  0.0048,  0.0160,  0.0150,\n",
       "           -0.0076,  0.0069, -0.0017, -0.0438, -0.0122, -0.0361,  0.0023,\n",
       "           -0.0787, -0.0545,  0.0088,  0.0124,  0.0262,  0.0479,  0.0017,\n",
       "            0.0259, -0.0103,  0.0021, -0.0235,  0.0327, -0.0060,  0.0162,\n",
       "           -0.0212, -0.0207,  0.0130, -0.0188, -0.0072, -0.0178, -0.0223,\n",
       "            0.0007,  0.0384,  0.0482,  0.0351,  0.0051, -0.0087,  0.0092,\n",
       "           -0.0612,  0.0372, -0.0240, -0.0411, -0.0514, -0.0457, -0.0003,\n",
       "           -0.0419, -0.0020,  0.0186,  0.0291,  0.0197,  0.0695, -0.0077,\n",
       "           -0.0489,  0.0432,  0.0249,  0.0179,  0.0113, -0.0579, -0.0064,\n",
       "            0.0062, -0.0138, -0.0533, -0.0149,  0.0502,  0.0268,  0.0643,\n",
       "            0.0316, -0.0504,  0.0041, -0.0306,  0.0053, -0.0160,  0.0017,\n",
       "           -0.0238, -0.0767,  0.0162,  0.0167, -0.0249, -0.0158,  0.0443,\n",
       "            0.0092, -0.0045, -0.0062, -0.0328, -0.0122, -0.0038,  0.0707,\n",
       "           -0.0253, -0.0074,  0.0081,  0.0295,  0.0356,  0.0397,  0.0014,\n",
       "           -0.0306,  0.0207, -0.0051, -0.0159, -0.0057,  0.0205, -0.0137,\n",
       "           -0.0014,  0.0063, -0.0248, -0.0154,  0.0461, -0.0014,  0.0303,\n",
       "            0.0295, -0.0751, -0.0229,  0.0345, -0.0295,  0.0024, -0.0433,\n",
       "            0.0511,  0.0148, -0.0003,  0.0394, -0.0284,  0.0514, -0.0194,\n",
       "            0.0126, -0.0216, -0.0333,  0.0245,  0.0188,  0.0239, -0.0136,\n",
       "            0.0269,  0.0192,  0.0156, -0.0085,  0.0467, -0.0491, -0.0237,\n",
       "           -0.0068,  0.0367,  0.0310,  0.0291, -0.0325,  0.0319, -0.0453,\n",
       "            0.0249,  0.0637,  0.0172, -0.0122,  0.0193,  0.0224, -0.0037,\n",
       "           -0.0095,  0.0006, -0.0013, -0.0015,  0.0408,  0.0178,  0.0139,\n",
       "           -0.0087, -0.0500,  0.0164, -0.0267, -0.0242, -0.0028, -0.0389,\n",
       "           -0.0031,  0.0242,  0.0359,  0.0124, -0.0001,  0.0037, -0.0328,\n",
       "            0.0008, -0.0285, -0.0049,  0.0550, -0.0389,  0.0202,  0.0181,\n",
       "            0.0307,  0.0252, -0.0636, -0.0460, -0.0207,  0.0032, -0.0390,\n",
       "           -0.0369, -0.0152, -0.0179,  0.0598, -0.0008,  0.0163,  0.0430,\n",
       "           -0.0289, -0.0465,  0.0292, -0.0118]]], grad_fn=<TransposeBackward0>),\n",
       " 'z': tensor([[[-0.7939, -0.1529, -0.3502],\n",
       "          [ 1.5703, -0.3963, -0.2338]]], grad_fn=<AddBackward0>),\n",
       " 'mu_z': tensor([[[ 0.0341,  0.0267, -0.0667]]], grad_fn=<AddBackward0>),\n",
       " 'sigma_z': tensor([[[0.6942, 0.6756, 0.6764]]], grad_fn=<SoftplusBackward>),\n",
       " 'c': tensor([[[-0.3280,  0.2345, -0.4309],\n",
       "          [-0.2101, -0.3169,  0.8311]]], grad_fn=<AddBackward0>),\n",
       " 'mu_c': tensor([[[-0.0649,  0.0383, -0.0260],\n",
       "          [-0.0638,  0.0392, -0.0260]]], grad_fn=<AddBackward0>),\n",
       " 'sigma_c': tensor([[[0.6884, 0.6729, 0.7129],\n",
       "          [0.6882, 0.6729, 0.7132]]], grad_fn=<SoftplusBackward>)}"
      ]
     },
     "execution_count": 308,
     "metadata": {},
     "output_type": "execute_result"
    }
   ],
   "source": [
    "output"
   ]
  },
  {
   "cell_type": "code",
   "execution_count": null,
   "metadata": {},
   "outputs": [],
   "source": []
  }
 ],
 "metadata": {
  "kernelspec": {
   "display_name": "LSTM-AD",
   "language": "python",
   "name": "lstm-ad"
  },
  "language_info": {
   "codemirror_mode": {
    "name": "ipython",
    "version": 3
   },
   "file_extension": ".py",
   "mimetype": "text/x-python",
   "name": "python",
   "nbconvert_exporter": "python",
   "pygments_lexer": "ipython3",
   "version": "3.7.6"
  }
 },
 "nbformat": 4,
 "nbformat_minor": 4
}
