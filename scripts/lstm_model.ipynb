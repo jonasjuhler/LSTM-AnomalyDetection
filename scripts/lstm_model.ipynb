{
 "cells": [
  {
   "cell_type": "code",
   "execution_count": 134,
   "metadata": {},
   "outputs": [],
   "source": [
    "import torch.nn as nn\n",
    "import torch\n",
    "\n",
    "class LSTM_VAE(nn.Module):\n",
    "    def __init__(self, latent_features, num_samples, num_features):\n",
    "        super(LSTM_VAE, self).__init__()\n",
    "\n",
    "        self.latent_features = latent_features\n",
    "        self.num_samples = num_samples\n",
    "        self.num_features = num_features\n",
    "        \n",
    "        # We encode the data onto the latent space using two linear layers\n",
    "        self.encoder = nn.LSTM(\n",
    "            input_size=self.num_features,\n",
    "            hidden_size=2*self.latent_features,\n",
    "            num_layers=1,\n",
    "            bias=True,\n",
    "            batch_first=True,\n",
    "            dropout=0,\n",
    "            bidirectional=False\n",
    "        )\n",
    "\n",
    "        # The latent code must be decoded into the original image\n",
    "        self.decoder = nn.LSTM(\n",
    "            input_size=self.latent_features,\n",
    "            hidden_size=self.num_features,\n",
    "            num_layers=1,\n",
    "            bias=True,\n",
    "            batch_first=True,\n",
    "            dropout=0,\n",
    "            bidirectional=False\n",
    "        )\n",
    "\n",
    "        # Initialize hidden state and cell state as learnable parameters\n",
    "        self.hidden = torch.zeros(1, 1, 2*self.latent_features)\n",
    "        self.cell_state = torch.zeros(1, 1, 2*self.latent_features)\n",
    "        \n",
    "    def forward(self, x):\n",
    "        outputs = {}\n",
    "            \n",
    "        hidden_encoded, _ = self.encoder(x, (self.hidden, self.cell_state))\n",
    "                \n",
    "        # Split encoder outputs into a mean and variance vector\n",
    "        mu, log_var = torch.chunk(hidden_encoded, 2, dim=-1)\n",
    "\n",
    "        # :- Reparametrisation trick\n",
    "        # a sample from N(mu, sigma) is mu + sigma * epsilon\n",
    "        # where epsilon ~ N(0, 1)\n",
    "\n",
    "        # Don't propagate gradients through randomness\n",
    "        with torch.no_grad():\n",
    "            batch_size = mu.size(0)\n",
    "            epsilon = torch.randn(\n",
    "                batch_size, self.num_samples, self.latent_features)\n",
    "\n",
    "        sigma = torch.exp(log_var/2)\n",
    "\n",
    "        # We will need to unsqueeze to turn\n",
    "        # (batch_size, latent_dim) -> (batch_size, 1, latent_dim)\n",
    "        z = mu + epsilon * sigma        \n",
    "        \n",
    "        # Run through decoder\n",
    "        x_hat = self.decoder(z)\n",
    "\n",
    "        outputs[\"x_hat\"] = x_hat\n",
    "        outputs[\"z\"] = z\n",
    "        outputs[\"mu\"] = mu\n",
    "        outputs[\"log_var\"] = log_var\n",
    "\n",
    "        return outputs\n"
   ]
  },
  {
   "cell_type": "code",
   "execution_count": 135,
   "metadata": {},
   "outputs": [
    {
     "name": "stdout",
     "output_type": "stream",
     "text": [
      "torch.Size([67, 24])\n"
     ]
    }
   ],
   "source": [
    "from lvead.dataload.load_data import load_data\n",
    "\n",
    "train, _ = load_data('ItalyPowerDemand', basepath='..')\n",
    "\n",
    "train_x = torch.Tensor(train[:, 1:])\n",
    "\n",
    "print(train_x.shape)\n"
   ]
  },
  {
   "cell_type": "code",
   "execution_count": 136,
   "metadata": {},
   "outputs": [
    {
     "name": "stdout",
     "output_type": "stream",
     "text": [
      "torch.Size([1, 67, 24])\n"
     ]
    }
   ],
   "source": [
    "latent_features = 8\n",
    "num_samples = train_x.shape[0]\n",
    "num_features = train_x.shape[1]\n",
    "\n",
    "train_x = train_x.unsqueeze(0)\n",
    "\n",
    "net = LSTM_VAE(latent_features, num_samples, num_features)\n",
    "\n",
    "output = net(train_x)\n",
    "\n",
    "print(output['x_hat'][0].shape)"
   ]
  }
 ],
 "metadata": {
  "kernelspec": {
   "display_name": "LVEAD",
   "language": "python",
   "name": "lvead"
  },
  "language_info": {
   "codemirror_mode": {
    "name": "ipython",
    "version": 3
   },
   "file_extension": ".py",
   "mimetype": "text/x-python",
   "name": "python",
   "nbconvert_exporter": "python",
   "pygments_lexer": "ipython3",
   "version": "3.7.6"
  }
 },
 "nbformat": 4,
 "nbformat_minor": 4
}
