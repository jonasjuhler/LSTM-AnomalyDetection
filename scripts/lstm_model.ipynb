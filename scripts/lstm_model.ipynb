{
 "cells": [
  {
   "cell_type": "code",
   "execution_count": 390,
   "metadata": {},
   "outputs": [],
   "source": [
    "import torch.nn as nn\n",
    "import torch\n",
    "import numpy as np\n",
    "\n",
    "class LSTM_VAE(nn.Module):\n",
    "    def __init__(self, z_dim, T, x_dim, h_dim, batch_size=1):\n",
    "        super(LSTM_VAE, self).__init__()\n",
    "\n",
    "        self.z_dim = z_dim\n",
    "        self.T = T\n",
    "        self.x_dim = x_dim\n",
    "        self.h_dim = h_dim\n",
    "        self.batch_size = batch_size\n",
    "        \n",
    "        # Everything going on in the network has to be of size:\n",
    "        # (batch_size, T, n_features)\n",
    "        \n",
    "        # We encode the data onto the latent space using bi-directional LSTM\n",
    "        self.encoder = nn.LSTM(\n",
    "            input_size=self.x_dim,\n",
    "            hidden_size=self.h_dim,\n",
    "            num_layers=1,\n",
    "            bias=True,\n",
    "            batch_first=True,\n",
    "            dropout=0,\n",
    "            bidirectional=True\n",
    "        )\n",
    "        \n",
    "        self.fnn_zmu = nn.Linear(\n",
    "            in_features=2*self.h_dim,\n",
    "            out_features=self.z_dim,\n",
    "            bias=True\n",
    "        )\n",
    "\n",
    "        self.fnn_zvar = nn.Linear(\n",
    "            in_features=2*self.h_dim,\n",
    "            out_features=self.z_dim,\n",
    "            bias=True\n",
    "        )\n",
    "        \n",
    "        self.fnn_cmu = nn.Linear(\n",
    "            in_features=2*self.h_dim,\n",
    "            out_features=self.z_dim,\n",
    "            bias=True\n",
    "        )\n",
    "        \n",
    "        self.fnn_cvar = nn.Linear(\n",
    "            in_features=2*self.h_dim,\n",
    "            out_features=self.z_dim,\n",
    "            bias=True\n",
    "        )\n",
    "        \n",
    "        # The latent code must be decoded into the original image\n",
    "        self.decoder = nn.LSTM(\n",
    "            input_size=self.z_dim*2,\n",
    "            hidden_size=self.h_dim,\n",
    "            num_layers=1,\n",
    "            bias=True,\n",
    "            batch_first=True,\n",
    "            dropout=0,\n",
    "            bidirectional=True\n",
    "        )\n",
    "        \n",
    "        self.fnn_xmu = nn.Linear(\n",
    "            in_features=2*self.h_dim,\n",
    "            out_features=self.x_dim,\n",
    "            bias=True\n",
    "        )\n",
    "        \n",
    "        self.fnn_xb = nn.Linear(\n",
    "            in_features=2*self.h_dim,\n",
    "            out_features=self.x_dim,\n",
    "            bias=True\n",
    "        ) \n",
    "\n",
    "        # Initialize hidden state and cell state as learnable parameters\n",
    "        self.hidden_state = torch.zeros(2, 1, self.h_dim)\n",
    "        self.cell_state = torch.zeros(2, 1, self.h_dim)\n",
    "\n",
    "        \n",
    "    def forward(self, x):\n",
    "        outputs = {}\n",
    "        \n",
    "        out_encoded, (hidden_encoded, _) = self.encoder(x, (self.hidden_state, self.cell_state))\n",
    "        flat_hidden = hidden_encoded.reshape(1, 1, 2*self.h_dim)\n",
    "        \n",
    "        # Fully connected layer from LSTM to var and mu\n",
    "        mu_z = self.fnn_zmu(flat_hidden)\n",
    "        sigma_z = nn.functional.softplus(self.fnn_zvar(flat_hidden))\n",
    "\n",
    "        # :- Reparametrisation trick\n",
    "        # a sample from N(mu, sigma) is mu + sigma * epsilon\n",
    "        # where epsilon ~ N(0, 1)\n",
    "\n",
    "        # Don't propagate gradients through randomness\n",
    "        with torch.no_grad():\n",
    "            epsilon_z = torch.randn(\n",
    "                self.batch_size, 1, self.z_dim)\n",
    "\n",
    "        # (batch_size, latent_dim) -> (batch_size, 1, latent_dim)\n",
    "        z = mu_z + epsilon_z * sigma_z        \n",
    "\n",
    "        # Here goes the Variational Self-Attention Network \n",
    "        \n",
    "        # Calculate the similarity matrix\n",
    "        S = torch.zeros(self.batch_size, self.T, self.T)\n",
    "        for b in range(self.batch_size):\n",
    "            for i in range(self.T):\n",
    "                for j in range(i, self.T):\n",
    "                    S[b,i,j] = torch.dot(out_encoded[b,i,:], out_encoded[b,j,:])\n",
    "                    S[b,j,i] = S[b,i,j]\n",
    "        \n",
    "        S = S / np.sqrt((2 * self.h_dim))\n",
    "        \n",
    "        # Use softmax to get the sum of weights to equal 1\n",
    "        A = nn.functional.softmax(S, dim=1)\n",
    "        \n",
    "        Cdet = torch.zeros(self.batch_size, self.T, 2*self.h_dim)\n",
    "        \n",
    "        for b in range(self.batch_size):\n",
    "            for t in range(self.T):\n",
    "                Cdet[b,t,:] = torch.matmul(A[b,:,t], out_encoded[b])\n",
    "        \n",
    "        # Fully connected layer from LSTM to var and mu\n",
    "        mu_c = self.fnn_cmu(Cdet)\n",
    "        sigma_c = nn.functional.softplus(self.fnn_cvar(Cdet))\n",
    "\n",
    "        # Don't propagate gradients through randomness\n",
    "        with torch.no_grad():\n",
    "            epsilon_c = torch.randn(\n",
    "                self.batch_size, self.T, self.z_dim)\n",
    "\n",
    "        c = mu_c + epsilon_c * sigma_c     \n",
    "        \n",
    "        # Concatenate z and c before giving it as input to the decoder\n",
    "        z = torch.cat(self.T*[z], dim=1)\n",
    "        encoded = torch.cat((z,c), dim=2)\n",
    "        \n",
    "        # Run through decoder\n",
    "        out_decoded, _ = self.decoder(encoded)\n",
    "        \n",
    "        # Pass the decoder outputs through fnn to get LaPlace parameters\n",
    "        mu_x = self.fnn_xmu(out_decoded)\n",
    "        b_x = nn.functional.softplus(self.fnn_xb(out_decoded))\n",
    "        \n",
    "        outputs[\"z\"] = z\n",
    "        outputs[\"mu_z\"] = mu_z\n",
    "        outputs[\"sigma_z\"] = sigma_z\n",
    "        outputs[\"c\"] = c\n",
    "        outputs[\"mu_c\"] = mu_c\n",
    "        outputs[\"sigma_c\"] = sigma_c\n",
    "        outputs[\"mu_x\"] = mu_x\n",
    "        outputs[\"b_x\"] = b_x\n",
    "        \n",
    "        return outputs\n"
   ]
  },
  {
   "cell_type": "code",
   "execution_count": 391,
   "metadata": {},
   "outputs": [
    {
     "name": "stdout",
     "output_type": "stream",
     "text": [
      "torch.Size([1, 5, 1])\n"
     ]
    }
   ],
   "source": [
    "from lstmAD.dataload.load_data import load_data\n",
    "\n",
    "train, _ = load_data('ItalyPowerDemand', basepath='..')\n",
    "\n",
    "train_x = torch.Tensor(train[:5, 20]).unsqueeze(1).unsqueeze(0)\n",
    "\n",
    "print(train_x.shape)\n"
   ]
  },
  {
   "cell_type": "code",
   "execution_count": 392,
   "metadata": {},
   "outputs": [
    {
     "data": {
      "text/plain": [
       "[<matplotlib.lines.Line2D at 0x12e05bc10>]"
      ]
     },
     "execution_count": 392,
     "metadata": {},
     "output_type": "execute_result"
    },
    {
     "data": {
      "image/png": "[encoded data removed]",
      "text/plain": [
       "<Figure size 432x288 with 1 Axes>"
      ]
     },
     "metadata": {
      "needs_background": "light"
     },
     "output_type": "display_data"
    }
   ],
   "source": [
    "%matplotlib inline\n",
    "import matplotlib.pyplot as plt\n",
    "\n",
    "plt.plot(train_x[0,:].numpy())"
   ]
  },
  {
   "cell_type": "code",
   "execution_count": 389,
   "metadata": {},
   "outputs": [
    {
     "name": "stdout",
     "output_type": "stream",
     "text": [
      "tensor([[[-0.8572, -0.9642, -0.6136],\n",
      "         [-0.8572, -0.9642, -0.6136],\n",
      "         [-0.8572, -0.9642, -0.6136],\n",
      "         [-0.8572, -0.9642, -0.6136],\n",
      "         [-0.8572, -0.9642, -0.6136]]], grad_fn=<CatBackward>)\n",
      "tensor([[[-0.1847,  0.0064,  0.2881],\n",
      "         [-0.2662, -0.3160, -0.0085],\n",
      "         [-1.0751, -0.6130,  0.9355],\n",
      "         [-1.4525,  0.9546, -0.0542],\n",
      "         [ 0.5086, -0.0448, -0.5415]]], grad_fn=<AddBackward0>)\n",
      "tensor([[[-0.8572, -0.9642, -0.6136, -0.1847,  0.0064,  0.2881],\n",
      "         [-0.8572, -0.9642, -0.6136, -0.2662, -0.3160, -0.0085],\n",
      "         [-0.8572, -0.9642, -0.6136, -1.0751, -0.6130,  0.9355],\n",
      "         [-0.8572, -0.9642, -0.6136, -1.4525,  0.9546, -0.0542],\n",
      "         [-0.8572, -0.9642, -0.6136,  0.5086, -0.0448, -0.5415]]],\n",
      "       grad_fn=<CatBackward>)\n"
     ]
    }
   ],
   "source": [
    "z_dim = 3\n",
    "N = train_x.shape[0]\n",
    "T = train_x.shape[1]\n",
    "x_dim = train_x.shape[2]\n",
    "lstm_units = 128\n",
    "\n",
    "net = LSTM_VAE(z_dim, T, x_dim, lstm_units)\n",
    "\n",
    "output = net(train_x)\n",
    "\n",
    "#print(output['x_hat'][0].shape)"
   ]
  },
  {
   "cell_type": "code",
   "execution_count": 333,
   "metadata": {},
   "outputs": [
    {
     "name": "stdout",
     "output_type": "stream",
     "text": [
      "torch.Size([1, 2, 256])\n",
      "torch.Size([2, 1, 128])\n",
      "torch.Size([2, 1, 128])\n"
     ]
    }
   ],
   "source": [
    "# Concatenated hidden state (but how it is concatenated??)\n",
    "out = net.encoder(train_x, (torch.zeros(2, 1, 128), torch.zeros(2, 1, 128)))[0]\n",
    "print(out.shape)\n",
    "\n",
    "# Final hidden state (forward+backward, batch, num_lstm_units)\n",
    "hidden = net.encoder(train_x, (torch.zeros(2, 1, 128), torch.zeros(2, 1, 128)))[1][0]\n",
    "print(hidden.shape)\n",
    "\n",
    "# Final cell state (forward+backward, batch, num_lstm_units)\n",
    "cell = net.encoder(train_x, (torch.zeros(2, 1, 128), torch.zeros(2, 1, 128)))[1][1]\n",
    "print(cell.shape)"
   ]
  },
  {
   "cell_type": "code",
   "execution_count": 385,
   "metadata": {},
   "outputs": [
    {
     "data": {
      "text/plain": [
       "torch.Size([1, 5, 3])"
      ]
     },
     "execution_count": 385,
     "metadata": {},
     "output_type": "execute_result"
    }
   ],
   "source": [
    "torch.cat(5*[torch.randn(1,1,3)], dim=1).shape"
   ]
  },
  {
   "cell_type": "code",
   "execution_count": null,
   "metadata": {},
   "outputs": [],
   "source": []
  }
 ],
 "metadata": {
  "kernelspec": {
   "display_name": "LSTM-AD",
   "language": "python",
   "name": "lstm-ad"
  },
  "language_info": {
   "codemirror_mode": {
    "name": "ipython",
    "version": 3
   },
   "file_extension": ".py",
   "mimetype": "text/x-python",
   "name": "python",
   "nbconvert_exporter": "python",
   "pygments_lexer": "ipython3",
   "version": "3.7.6"
  }
 },
 "nbformat": 4,
 "nbformat_minor": 4
}
